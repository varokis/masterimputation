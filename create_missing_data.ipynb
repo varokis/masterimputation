{
 "cells": [
  {
   "cell_type": "code",
   "execution_count": 1,
   "metadata": {},
   "outputs": [],
   "source": [
    "# imports\n",
    "import pandas as pd\n",
    "import numpy as np\n",
    "from itertools import product, chain\n",
    "\n",
    "from misscreate import induce_mcar, induce_mar, induce_mnar"
   ]
  },
  {
   "cell_type": "code",
   "execution_count": 3,
   "metadata": {},
   "outputs": [],
   "source": [
    "# load the data\n",
    "df2h = pd.read_parquet('outdata/datasets/complete/data2h.parquet')\n",
    "df4h = pd.read_parquet('outdata/datasets/complete/data4h.parquet')\n",
    "df6h = pd.read_parquet('outdata/datasets/complete/data6h.parquet')\n",
    "\n",
    "no_miss_cols = df2h.select_dtypes(exclude='number').columns.to_list() + ['hospital_expire_flag'] # list of all non-numeric columns + outcome\n",
    "\n",
    "for df in [df2h, df4h, df6h]:\n",
    "    df['age'] = df['age'].factorize(sort=True)[0] # factorize the age so it can be used as a conditional variable"
   ]
  },
  {
   "cell_type": "code",
   "execution_count": 8,
   "metadata": {},
   "outputs": [],
   "source": [
    "# options\n",
    "runs = 20\n",
    "datasets =      {'2h': df2h, '4h': df4h, '6h': df6h}                         \n",
    "miss_rates =    [0.05, 0.1, 0.25, 0.5, 0.75]\n",
    "miss_funs =     [induce_mcar, induce_mar, induce_mnar]                      \n",
    "miss_types =    ['single', 'patient', 'both'] \n",
    "miss_weights =  ['equal', 'squared', [1,1,1,5,10]]\n",
    "cond_vars =     ['age']\n"
   ]
  },
  {
   "attachments": {},
   "cell_type": "markdown",
   "metadata": {},
   "source": [
    "### MCAR"
   ]
  },
  {
   "cell_type": "code",
   "execution_count": 5,
   "metadata": {},
   "outputs": [],
   "source": [
    "# 3m35s\n",
    "options = list(product(datasets, miss_rates, miss_types))\n",
    "\n",
    "for dfkey, rate, type in options:\n",
    "    for i in range(runs):\n",
    "        tmp = induce_mcar(df=datasets[dfkey], miss_rate=rate, miss_type=type, ignore_cols=no_miss_cols)\n",
    "        path = f\"outdata/datasets/missing/mcar/mcar_{dfkey}_{rate}_{type}_{i}.parquet\"\n",
    "        tmp.to_parquet(path)"
   ]
  },
  {
   "attachments": {},
   "cell_type": "markdown",
   "metadata": {},
   "source": [
    "### MAR"
   ]
  },
  {
   "cell_type": "code",
   "execution_count": 9,
   "metadata": {},
   "outputs": [],
   "source": [
    "# 20m3s\n",
    "options = list(product(datasets, miss_rates, miss_types, miss_weights))\n",
    "\n",
    "for dfkey, rate, type, weight in options:\n",
    "    for i in range(runs):\n",
    "        tmp = induce_mar(df=datasets[dfkey], miss_rate=rate, miss_type=type, miss_weights=weight, cond_var='age', ignore_cols=no_miss_cols)\n",
    "        path = f\"outdata/datasets/missing/mar/mar_{dfkey}_{rate}_{type}_{weight}_{i}.parquet\"\n",
    "        tmp.to_parquet(path)"
   ]
  },
  {
   "attachments": {},
   "cell_type": "markdown",
   "metadata": {},
   "source": [
    "### MNAR"
   ]
  },
  {
   "cell_type": "code",
   "execution_count": 6,
   "metadata": {},
   "outputs": [],
   "source": [
    "#  19m56s\n",
    "options = list(product(datasets, miss_rates, miss_types, miss_weights))\n",
    "\n",
    "for dfkey, rate, type, weight in options:\n",
    "    for i in range(runs):\n",
    "        tmp = induce_mnar(df=datasets[dfkey], miss_rate=rate, miss_type=type, miss_weights=weight, ignore_cols=no_miss_cols)\n",
    "        path = f\"outdata/datasets/missing/mnar/mnar_{dfkey}_{rate}_{type}_{weight}_{i}.parquet\"\n",
    "        tmp.to_parquet(path)"
   ]
  }
 ],
 "metadata": {
  "kernelspec": {
   "display_name": "masterimpu",
   "language": "python",
   "name": "python3"
  },
  "language_info": {
   "codemirror_mode": {
    "name": "ipython",
    "version": 3
   },
   "file_extension": ".py",
   "mimetype": "text/x-python",
   "name": "python",
   "nbconvert_exporter": "python",
   "pygments_lexer": "ipython3",
   "version": "3.10.9"
  },
  "orig_nbformat": 4
 },
 "nbformat": 4,
 "nbformat_minor": 2
}
