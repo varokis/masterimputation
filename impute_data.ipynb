{
 "cells": [
  {
   "cell_type": "code",
   "execution_count": 1,
   "metadata": {},
   "outputs": [],
   "source": [
    "import pandas as pd\n",
    "import numpy as np\n",
    "import os\n",
    "import re\n",
    "\n",
    "# local imports\n",
    "from impfuns import ffill_median"
   ]
  },
  {
   "cell_type": "code",
   "execution_count": 2,
   "metadata": {},
   "outputs": [],
   "source": [
    "dirpath = \"outdata/datasets/missing/\"\n",
    "outpath = \"outdata/datasets/imputed/limdata/\"\n",
    "files = os.listdir(dirpath)\n",
    "\n",
    "no_miss_cols = ['age', 'gender', 'admission_type', 'first_careunit', 'hospital_expire_flag'] # list of all non-numeric columns + outcome\n",
    "colnames = ['heart_rate', 'systolic_blood_pressure', 'diastolic_blood_pressure',\n",
    "       'respiratory_rate', 'oxygen_saturation', 'age', 'gender',\n",
    "       'admission_type', 'first_careunit', 'hospital_expire_flag']\n",
    "\n",
    "\n",
    "# only use 2h data set and 0.5 missing rate\n",
    "r = re.compile(\".*2h_0\\\\.5.*\")\n",
    "files = filter(r.match, files)\n"
   ]
  },
  {
   "cell_type": "code",
   "execution_count": 3,
   "metadata": {},
   "outputs": [],
   "source": [
    "for file in files:\n",
    "    df = pd.read_parquet(dirpath + file)\n",
    "    df.columns = colnames\n",
    "    out = ffill_median(df, no_miss_cols)\n",
    "    out.to_parquet(outpath + \"None_ffillMedian_\" + file)\n",
    "    "
   ]
  }
 ],
 "metadata": {
  "kernelspec": {
   "display_name": "masterimpu",
   "language": "python",
   "name": "python3"
  },
  "language_info": {
   "codemirror_mode": {
    "name": "ipython",
    "version": 3
   },
   "file_extension": ".py",
   "mimetype": "text/x-python",
   "name": "python",
   "nbconvert_exporter": "python",
   "pygments_lexer": "ipython3",
   "version": "3.10.9"
  },
  "orig_nbformat": 4
 },
 "nbformat": 4,
 "nbformat_minor": 2
}
