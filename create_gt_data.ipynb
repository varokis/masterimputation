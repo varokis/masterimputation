{
 "cells": [
  {
   "attachments": {},
   "cell_type": "markdown",
   "metadata": {},
   "source": [
    "Create dataframes containing only the ground truth values of data missing in the corresponding amputed dataframes."
   ]
  },
  {
   "cell_type": "code",
   "execution_count": 2,
   "metadata": {},
   "outputs": [],
   "source": [
    "import pandas as pd\n",
    "import os"
   ]
  },
  {
   "cell_type": "code",
   "execution_count": 15,
   "metadata": {},
   "outputs": [],
   "source": [
    "# load the complete data\n",
    "df2h = pd.read_parquet('outdata/datasets/complete/data2h.parquet')\n",
    "\n",
    "no_num_cols = df2h.select_dtypes(exclude='number').columns.to_list()\n",
    "no_miss_cols =  no_num_cols + ['hospital_expire_flag'] # list of all non-numeric columns + outcome\n",
    "\n",
    "df2h['age'] = df2h['age'].factorize(sort=True)[0] # factorize the age so it can be used as a conditional variable\n",
    "\n",
    "\n",
    "# load the imputed data\n",
    "imp_path = 'outdata/datasets/missing/'\n",
    "gt_path = 'outdata/datasets/missingtruth/'\n",
    "files = os.listdir(imp_path)\n",
    "\n"
   ]
  },
  {
   "cell_type": "code",
   "execution_count": 29,
   "metadata": {},
   "outputs": [],
   "source": [
    "colnames = gt.columns\n",
    "for file in files:\n",
    "    df = pd.read_parquet( imp_path + file)\n",
    "    df.columns = colnames\n",
    "    mask= df.isna()\n",
    "    df2h.where(mask, pd.NA).to_parquet(gt_path + file)\n"
   ]
  }
 ],
 "metadata": {
  "kernelspec": {
   "display_name": "masterimpu",
   "language": "python",
   "name": "python3"
  },
  "language_info": {
   "codemirror_mode": {
    "name": "ipython",
    "version": 3
   },
   "file_extension": ".py",
   "mimetype": "text/x-python",
   "name": "python",
   "nbconvert_exporter": "python",
   "pygments_lexer": "ipython3",
   "version": "3.10.9"
  },
  "orig_nbformat": 4
 },
 "nbformat": 4,
 "nbformat_minor": 2
}
