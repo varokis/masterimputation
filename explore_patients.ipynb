{
 "cells": [
  {
   "cell_type": "code",
   "execution_count": 125,
   "metadata": {},
   "outputs": [],
   "source": [
    "import pandas as pd\n"
   ]
  },
  {
   "cell_type": "markdown",
   "metadata": {},
   "source": [
    "## Initial exploration of Patient data\n",
    "\n",
    "### TODO\n",
    "- choose appropriate features\n",
    "- potentially consolidate different values (ethnicity only white not white - russian, white - other european ...)"
   ]
  },
  {
   "cell_type": "code",
   "execution_count": 126,
   "metadata": {},
   "outputs": [],
   "source": [
    "DATA_PATH = \"../MIMIC-III/precomputed/all_hourly_data.h5\"\n",
    "\n",
    "data_stats = pd.read_hdf(DATA_PATH, 'patients')\n",
    "data_stats.index = data_stats.index.droplevel(['hadm_id', 'icustay_id']) # only one ID is necessary"
   ]
  },
  {
   "cell_type": "markdown",
   "metadata": {},
   "source": [
    "### Features to use:\n",
    "- age\n",
    "- gender\n",
    "- ethnicity -- out\n",
    "- insurance\n",
    "- admission_type\n",
    "- first_careunit\n",
    "\n",
    "\n",
    "### Maybe add in:\n",
    "- los_icu - good here but only known after stay has ended --> not good for prediction\n",
    "- fullcode, dnr, cmo\n",
    "- admittime, dischtime --> convert to los maybe?\n",
    "- intime (into icu)\n",
    "- diagnosis at admission --> 11.000 different levels might be to many --> maybe consolidate\n",
    "\n",
    "\n"
   ]
  },
  {
   "cell_type": "code",
   "execution_count": 127,
   "metadata": {},
   "outputs": [],
   "source": [
    "keepcols = ['gender', 'ethnicity', 'age', 'insurance', 'admission_type', 'first_careunit']"
   ]
  },
  {
   "cell_type": "code",
   "execution_count": 128,
   "metadata": {},
   "outputs": [],
   "source": [
    "data_stats = data_stats[keepcols]"
   ]
  },
  {
   "cell_type": "code",
   "execution_count": 129,
   "metadata": {},
   "outputs": [
    {
     "data": {
      "text/html": [
       "<div>\n",
       "<style scoped>\n",
       "    .dataframe tbody tr th:only-of-type {\n",
       "        vertical-align: middle;\n",
       "    }\n",
       "\n",
       "    .dataframe tbody tr th {\n",
       "        vertical-align: top;\n",
       "    }\n",
       "\n",
       "    .dataframe thead th {\n",
       "        text-align: right;\n",
       "    }\n",
       "</style>\n",
       "<table border=\"1\" class=\"dataframe\">\n",
       "  <thead>\n",
       "    <tr style=\"text-align: right;\">\n",
       "      <th></th>\n",
       "      <th>gender</th>\n",
       "      <th>ethnicity</th>\n",
       "      <th>age</th>\n",
       "      <th>insurance</th>\n",
       "      <th>admission_type</th>\n",
       "      <th>first_careunit</th>\n",
       "    </tr>\n",
       "    <tr>\n",
       "      <th>subject_id</th>\n",
       "      <th></th>\n",
       "      <th></th>\n",
       "      <th></th>\n",
       "      <th></th>\n",
       "      <th></th>\n",
       "      <th></th>\n",
       "    </tr>\n",
       "  </thead>\n",
       "  <tbody>\n",
       "    <tr>\n",
       "      <th>3</th>\n",
       "      <td>M</td>\n",
       "      <td>WHITE</td>\n",
       "      <td>76.526792</td>\n",
       "      <td>Medicare</td>\n",
       "      <td>EMERGENCY</td>\n",
       "      <td>MICU</td>\n",
       "    </tr>\n",
       "    <tr>\n",
       "      <th>4</th>\n",
       "      <td>F</td>\n",
       "      <td>WHITE</td>\n",
       "      <td>47.845047</td>\n",
       "      <td>Private</td>\n",
       "      <td>EMERGENCY</td>\n",
       "      <td>MICU</td>\n",
       "    </tr>\n",
       "    <tr>\n",
       "      <th>6</th>\n",
       "      <td>F</td>\n",
       "      <td>WHITE</td>\n",
       "      <td>65.942297</td>\n",
       "      <td>Medicare</td>\n",
       "      <td>ELECTIVE</td>\n",
       "      <td>SICU</td>\n",
       "    </tr>\n",
       "    <tr>\n",
       "      <th>9</th>\n",
       "      <td>M</td>\n",
       "      <td>UNKNOWN/NOT SPECIFIED</td>\n",
       "      <td>41.790228</td>\n",
       "      <td>Medicaid</td>\n",
       "      <td>EMERGENCY</td>\n",
       "      <td>MICU</td>\n",
       "    </tr>\n",
       "    <tr>\n",
       "      <th>11</th>\n",
       "      <td>F</td>\n",
       "      <td>WHITE</td>\n",
       "      <td>50.148295</td>\n",
       "      <td>Private</td>\n",
       "      <td>EMERGENCY</td>\n",
       "      <td>SICU</td>\n",
       "    </tr>\n",
       "  </tbody>\n",
       "</table>\n",
       "</div>"
      ],
      "text/plain": [
       "           gender              ethnicity        age insurance admission_type  \\\n",
       "subject_id                                                                     \n",
       "3               M                  WHITE  76.526792  Medicare      EMERGENCY   \n",
       "4               F                  WHITE  47.845047   Private      EMERGENCY   \n",
       "6               F                  WHITE  65.942297  Medicare       ELECTIVE   \n",
       "9               M  UNKNOWN/NOT SPECIFIED  41.790228  Medicaid      EMERGENCY   \n",
       "11              F                  WHITE  50.148295   Private      EMERGENCY   \n",
       "\n",
       "           first_careunit  \n",
       "subject_id                 \n",
       "3                    MICU  \n",
       "4                    MICU  \n",
       "6                    SICU  \n",
       "9                    MICU  \n",
       "11                   SICU  "
      ]
     },
     "execution_count": 129,
     "metadata": {},
     "output_type": "execute_result"
    }
   ],
   "source": [
    "data_stats.head()"
   ]
  },
  {
   "cell_type": "markdown",
   "metadata": {},
   "source": [
    "## Some features need to be tweaked to work\n",
    "### Ethnicity\n",
    "- Combine different subgroups into more broad categories\n"
   ]
  },
  {
   "cell_type": "code",
   "execution_count": 130,
   "metadata": {},
   "outputs": [
    {
     "data": {
      "text/plain": [
       "WHITE                                                       24429\n",
       "UNKNOWN/NOT SPECIFIED                                        3221\n",
       "BLACK/AFRICAN AMERICAN                                       2456\n",
       "HISPANIC OR LATINO                                            881\n",
       "OTHER                                                         785\n",
       "UNABLE TO OBTAIN                                              652\n",
       "ASIAN                                                         545\n",
       "PATIENT DECLINED TO ANSWER                                    351\n",
       "ASIAN - CHINESE                                               166\n",
       "HISPANIC/LATINO - PUERTO RICAN                                124\n",
       "BLACK/CAPE VERDEAN                                            122\n",
       "WHITE - RUSSIAN                                                99\n",
       "MULTI RACE ETHNICITY                                           77\n",
       "BLACK/HAITIAN                                                  64\n",
       "WHITE - OTHER EUROPEAN                                         59\n",
       "HISPANIC/LATINO - DOMINICAN                                    56\n",
       "ASIAN - ASIAN INDIAN                                           49\n",
       "WHITE - BRAZILIAN                                              35\n",
       "ASIAN - VIETNAMESE                                             33\n",
       "PORTUGUESE                                                     32\n",
       "BLACK/AFRICAN                                                  25\n",
       "HISPANIC/LATINO - GUATEMALAN                                   24\n",
       "MIDDLE EASTERN                                                 23\n",
       "WHITE - EASTERN EUROPEAN                                       21\n",
       "HISPANIC/LATINO - CUBAN                                        16\n",
       "AMERICAN INDIAN/ALASKA NATIVE                                  15\n",
       "ASIAN - FILIPINO                                               13\n",
       "HISPANIC/LATINO - SALVADORAN                                   12\n",
       "NATIVE HAWAIIAN OR OTHER PACIFIC ISLANDER                      11\n",
       "ASIAN - KOREAN                                                 10\n",
       "ASIAN - CAMBODIAN                                              10\n",
       "HISPANIC/LATINO - MEXICAN                                       8\n",
       "HISPANIC/LATINO - CENTRAL AMERICAN (OTHER)                      7\n",
       "CARIBBEAN ISLAND                                                7\n",
       "SOUTH AMERICAN                                                  7\n",
       "ASIAN - OTHER                                                   7\n",
       "HISPANIC/LATINO - COLOMBIAN                                     6\n",
       "ASIAN - JAPANESE                                                6\n",
       "HISPANIC/LATINO - HONDURAN                                      3\n",
       "ASIAN - THAI                                                    3\n",
       "AMERICAN INDIAN/ALASKA NATIVE FEDERALLY RECOGNIZED TRIBE        2\n",
       "Name: ethnicity, dtype: int64"
      ]
     },
     "execution_count": 130,
     "metadata": {},
     "output_type": "execute_result"
    }
   ],
   "source": [
    "data_stats['ethnicity'].value_counts()\n"
   ]
  },
  {
   "cell_type": "code",
   "execution_count": 131,
   "metadata": {},
   "outputs": [],
   "source": [
    "# Crude consolidation function adapted from here:\n",
    "# https://github.com/MLforHealth/MIMIC_Extract/blob/master/notebooks/Summary%20Stats.ipynb (MIMIC Extract Github)\n",
    "\n",
    "\n",
    "def categorize_ethnicity(ethnicity):\n",
    "    if 'ASIAN' in ethnicity or 'MIDDLE EASTERN' in ethnicity:\n",
    "        ethnicity = 'ASIAN'\n",
    "    elif 'WHITE' in ethnicity or 'PORTUGUESE' in ethnicity:\n",
    "        ethnicity = 'WHITE'\n",
    "    elif 'HISPANIC' in ethnicity or 'SOUTH AMERICAN' in ethnicity:\n",
    "        ethnicity = 'HISPANIC/LATINO'\n",
    "    elif 'BLACK' in ethnicity:\n",
    "        ethnicity = 'BLACK'\n",
    "    elif 'OTHER' in ethnicity or 'ISLAND' in ethnicity or 'MULTI' in ethnicity or 'AMERICAN INDIAN' in ethnicity:\n",
    "        ethnicity = 'OTHER'\n",
    "    else: \n",
    "        ethnicity = 'MISSING'\n",
    "    return ethnicity"
   ]
  },
  {
   "cell_type": "code",
   "execution_count": 132,
   "metadata": {},
   "outputs": [
    {
     "name": "stderr",
     "output_type": "stream",
     "text": [
      "C:\\Users\\victo\\AppData\\Local\\Temp\\ipykernel_20948\\1167987113.py:1: FutureWarning: In a future version, `df.iloc[:, i] = newvals` will attempt to set the values inplace instead of always setting a new array. To retain the old behavior, use either `df[df.columns[i]] = newvals` or, if columns are non-unique, `df.isetitem(i, newvals)`\n",
      "  data_stats.loc[:,'ethnicity'] = data_stats['ethnicity'].apply(categorize_ethnicity)\n"
     ]
    }
   ],
   "source": [
    "data_stats.loc[:,'ethnicity'] = data_stats['ethnicity'].apply(categorize_ethnicity)"
   ]
  },
  {
   "cell_type": "code",
   "execution_count": 133,
   "metadata": {},
   "outputs": [
    {
     "data": {
      "text/plain": [
       "WHITE              24675\n",
       "MISSING             4224\n",
       "BLACK               2667\n",
       "HISPANIC/LATINO     1144\n",
       "OTHER                897\n",
       "ASIAN                865\n",
       "Name: ethnicity, dtype: int64"
      ]
     },
     "execution_count": 133,
     "metadata": {},
     "output_type": "execute_result"
    }
   ],
   "source": [
    "data_stats['ethnicity'].value_counts()"
   ]
  },
  {
   "cell_type": "markdown",
   "metadata": {},
   "source": [
    "### Age\n",
    "- combine age groups into buckets (ages above 89 are set to ~300 to protect subjects)\n",
    "- range 15 - 310 \n",
    "- new groups:\n",
    "  - 90+\n",
    "  - 70-89\n",
    "  - 50-69\n",
    "  - 30-49\n",
    "  - 10-29"
   ]
  },
  {
   "cell_type": "code",
   "execution_count": 134,
   "metadata": {},
   "outputs": [
    {
     "data": {
      "text/plain": [
       "count    34472.000000\n",
       "mean        75.029209\n",
       "std         55.853725\n",
       "min         15.052693\n",
       "25%         52.466861\n",
       "50%         65.741463\n",
       "75%         78.016920\n",
       "max        310.280861\n",
       "Name: age, dtype: float64"
      ]
     },
     "execution_count": 134,
     "metadata": {},
     "output_type": "execute_result"
    }
   ],
   "source": [
    "data_stats['age'].describe()"
   ]
  },
  {
   "cell_type": "code",
   "execution_count": 135,
   "metadata": {},
   "outputs": [],
   "source": [
    "def categorize_age(age):\n",
    "    if age < 30: \n",
    "        cat = '<30'\n",
    "    elif age < 50:\n",
    "        cat = '30-49'\n",
    "    elif age < 70:\n",
    "        cat = '50-69'\n",
    "    elif age < 90:\n",
    "        cat = '70-89'\n",
    "    else: \n",
    "        cat = '>90'\n",
    "    return cat"
   ]
  },
  {
   "cell_type": "code",
   "execution_count": 136,
   "metadata": {},
   "outputs": [],
   "source": [
    "data_stats.loc[:,'age'] = data_stats['age'].apply(categorize_age)"
   ]
  },
  {
   "cell_type": "code",
   "execution_count": 137,
   "metadata": {},
   "outputs": [
    {
     "data": {
      "text/plain": [
       "50-69    12938\n",
       "70-89    12377\n",
       "30-49     5489\n",
       ">90       1836\n",
       "<30       1832\n",
       "Name: age, dtype: int64"
      ]
     },
     "execution_count": 137,
     "metadata": {},
     "output_type": "execute_result"
    }
   ],
   "source": [
    "data_stats['age'].value_counts()"
   ]
  },
  {
   "cell_type": "code",
   "execution_count": 138,
   "metadata": {},
   "outputs": [
    {
     "data": {
      "text/plain": [
       "gender  ethnicity  age    insurance   admission_type  first_careunit\n",
       "F       WHITE      70-89  Medicare    EMERGENCY       MICU              1395\n",
       "M       WHITE      70-89  Medicare    EMERGENCY       MICU              1295\n",
       "                                                      CCU                749\n",
       "                   50-69  Private     EMERGENCY       MICU               718\n",
       "F       WHITE      70-89  Medicare    EMERGENCY       CCU                658\n",
       "                                                                        ... \n",
       "M       ASIAN      30-49  Medicare    ELECTIVE        MICU                 1\n",
       "F       ASIAN      30-49  Government  ELECTIVE        SICU                 1\n",
       "M       ASIAN      50-69  Government  ELECTIVE        CCU                  1\n",
       "                                                      SICU                 1\n",
       "        WHITE      >90    Self Pay    EMERGENCY       TSICU                1\n",
       "Length: 1639, dtype: int64"
      ]
     },
     "execution_count": 138,
     "metadata": {},
     "output_type": "execute_result"
    }
   ],
   "source": [
    "data_stats.value_counts()"
   ]
  }
 ],
 "metadata": {
  "kernelspec": {
   "display_name": "Python 3.10.6 ('masterimpu')",
   "language": "python",
   "name": "python3"
  },
  "language_info": {
   "codemirror_mode": {
    "name": "ipython",
    "version": 3
   },
   "file_extension": ".py",
   "mimetype": "text/x-python",
   "name": "python",
   "nbconvert_exporter": "python",
   "pygments_lexer": "ipython3",
   "version": "3.10.6"
  },
  "orig_nbformat": 4,
  "vscode": {
   "interpreter": {
    "hash": "072c29c5b7d60539e7b5f854a9f7430cbdbd7a0931bcbc37d92ffa6183265132"
   }
  }
 },
 "nbformat": 4,
 "nbformat_minor": 2
}
